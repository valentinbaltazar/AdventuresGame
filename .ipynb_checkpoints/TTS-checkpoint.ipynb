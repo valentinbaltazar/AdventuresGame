{
 "cells": [
  {
   "cell_type": "code",
   "execution_count": null,
   "id": "cb7b3e7c-fe62-456f-876a-07736e1daef9",
   "metadata": {},
   "outputs": [],
   "source": [
    "# Text to speech testing"
   ]
  }
 ],
 "metadata": {
  "kernelspec": {
   "display_name": "Python 3 (ipykernel)",
   "language": "python",
   "name": "python3"
  },
  "language_info": {
   "codemirror_mode": {
    "name": "ipython",
    "version": 3
   },
   "file_extension": ".py",
   "mimetype": "text/x-python",
   "name": "python",
   "nbconvert_exporter": "python",
   "pygments_lexer": "ipython3",
   "version": "3.10.6"
  }
 },
 "nbformat": 4,
 "nbformat_minor": 5
}
