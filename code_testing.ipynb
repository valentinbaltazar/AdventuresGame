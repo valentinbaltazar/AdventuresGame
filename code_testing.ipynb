{
 "cells": [
  {
   "cell_type": "code",
   "execution_count": 6,
   "id": "7f41ccba-81ea-4bc4-b5ba-1ce83a842e31",
   "metadata": {},
   "outputs": [
    {
     "data": {
      "text/plain": [
       "'What does this print?: '"
      ]
     },
     "execution_count": 6,
     "metadata": {},
     "output_type": "execute_result"
    }
   ],
   "source": [
    "# testing code snippets\n",
    "\n",
    "hair = ''\n",
    "\"What does this print?: {hair}\".format(hair=hair)"
   ]
  },
  {
   "cell_type": "code",
   "execution_count": null,
   "id": "5c8b2fa3-0822-464e-b147-50c9ef3607bd",
   "metadata": {},
   "outputs": [],
   "source": []
  }
 ],
 "metadata": {
  "kernelspec": {
   "display_name": "Python 3 (ipykernel)",
   "language": "python",
   "name": "python3"
  },
  "language_info": {
   "codemirror_mode": {
    "name": "ipython",
    "version": 3
   },
   "file_extension": ".py",
   "mimetype": "text/x-python",
   "name": "python",
   "nbconvert_exporter": "python",
   "pygments_lexer": "ipython3",
   "version": "3.10.6"
  }
 },
 "nbformat": 4,
 "nbformat_minor": 5
}
